{
  "nbformat": 4,
  "nbformat_minor": 0,
  "metadata": {
    "colab": {
      "provenance": []
    },
    "kernelspec": {
      "name": "python3",
      "display_name": "Python 3"
    },
    "language_info": {
      "name": "python"
    }
  },
  "cells": [
    {
      "cell_type": "code",
      "source": [
        "# primeiro passo, instalo as bibliotecas necessárias\n",
        "!pip install pandas faker\n",
        "\n",
        "# importo as bibliotecas\n",
        "import pandas as pd # útil para criar DataFrames, analisar e manipular dados\n",
        "from faker import Faker # útil para gerar dados de teste\n",
        "import random # útil para gerar escolhas pseudoaleatórias\n",
        "from datetime import datetime, timedelta"
      ],
      "metadata": {
        "id": "MpsnabueSGcF"
      },
      "execution_count": null,
      "outputs": []
    },
    {
      "cell_type": "code",
      "execution_count": 3,
      "metadata": {
        "colab": {
          "base_uri": "https://localhost:8080/"
        },
        "id": "bn9lLE07K7zf",
        "outputId": "461b31b3-6567-49cd-ff06-db50c89af06a"
      },
      "outputs": [
        {
          "output_type": "stream",
          "name": "stdout",
          "text": [
            "Visualizando as 5 primeiras linhas do DataFrame:\n",
            "   id_venda           data_venda              produto categoria  quantidade  \\\n",
            "0         1  2025-06-20 15:02:40  Tênis Branco Casual  Calçados           3   \n",
            "1         2  2025-09-05 07:11:53        Blusa de Seda    Blusas           3   \n",
            "2         3  2025-07-19 04:13:23        Blusa de Seda    Blusas           5   \n",
            "3         4  2025-07-20 01:38:28     Calça de Moletom    Calças           3   \n",
            "4         5  2025-08-19 10:37:19      Shorts de Linho    Shorts           3   \n",
            "\n",
            "   valor_unitario  valor_total          cidade  \n",
            "0          171.04       513.12         Itajubá  \n",
            "1           78.62       235.86         Itajubá  \n",
            "2           87.85       439.25  Rio de Janeiro  \n",
            "3          143.74       431.22  Rio de Janeiro  \n",
            "4           73.90       221.70  Rio de Janeiro  \n",
            "\n",
            "Dados criados e salvos com sucesso no arquivo \"vendas_miss_lena.csv\"!\n"
          ]
        }
      ],
      "source": [
        "# crio uma instância do Faker em pt-br (dados mais realistas)\n",
        "fake = Faker('pt_BR')\n",
        "\n",
        "# crio a lista de produtos\n",
        "produtos_info = {\n",
        "    'Blusa de Seda': 'Blusas',\n",
        "    'Camisa Social': 'Camisas',\n",
        "    'Calça Jeans Slim': 'Calças',\n",
        "    'Calça de Moletom': 'Calças',\n",
        "    'Vestido de Verão': 'Vestidos',\n",
        "    'Vestido Longo de Festa': 'Vestidos',\n",
        "    'Saia Midi': 'Saias',\n",
        "    'Shorts de Linho': 'Shorts',\n",
        "    'Jaqueta de Couro Sintético': 'Casacos',\n",
        "    'Tênis Branco Casual': 'Calçados',\n",
        "    'Sandália de Salto': 'Calçados',\n",
        "    'Cinto de Couro': 'Acessórios',\n",
        "    'Bolsa Tiracolo': 'Acessórios'\n",
        "}\n",
        "\n",
        "# crio uma lista de cidades do Brasil para os dados\n",
        "cidades = ['São Paulo', 'Itajubá', 'Pouso Alegre', 'Rio de Janeiro']\n",
        "\n",
        "# defino a quantidade de registros\n",
        "num_registros = 1000\n",
        "\n",
        "# crio um lista para armazernar as vendas\n",
        "dados_vendas = []\n",
        "\n",
        "# defino o tempo (últimos 3 meses)\n",
        "data_fim = datetime.now() # data de hoje\n",
        "data_inicio = data_fim - timedelta(days=90) # data de hoje 'menos' 90 dias\n",
        "\n",
        "# loop para gerar cada registro\n",
        "for i in range(num_registros):\n",
        "  # escolhe um produto aleatório\n",
        "  produto = random.choice(list(produtos_info.keys()))\n",
        "  categoria = produtos_info[produto]\n",
        "\n",
        "  # defino um preço base\n",
        "  if categoria == 'Blusas':\n",
        "    base_preco = 80.0\n",
        "  elif categoria == 'Camisas':\n",
        "      base_preco = 110.0\n",
        "  elif categoria == 'Calças':\n",
        "      base_preco = 150.0\n",
        "  elif categoria == 'Vestidos':\n",
        "      base_preco = 200.0\n",
        "  elif categoria == 'Saias':\n",
        "      base_preco = 90.0\n",
        "  elif categoria == 'Shorts':\n",
        "      base_preco = 75.0\n",
        "  elif categoria == 'Casacos':\n",
        "      base_preco = 250.0\n",
        "  elif categoria == 'Calçados':\n",
        "      base_preco = 180.0\n",
        "  else: # Acessórios\n",
        "      base_preco = 50.0\n",
        "\n",
        "  # adiciono uma pequena variação(para parecer mais real)\n",
        "  valor_unitario = round(base_preco * (1+ random.uniform(-0.1, 0.1)), 2)\n",
        "  quantidade = random.randint(1,5)\n",
        "\n",
        "  # gero um registro de venda\n",
        "  venda = {\n",
        "      'id_venda' : i +1,\n",
        "      'data_venda' : fake.date_time_between(start_date=data_inicio, end_date=data_fim)\\\n",
        "      .strftime('%Y-%m-%d %H:%M:%S'),\n",
        "      'produto' : produto,\n",
        "      'categoria' : categoria,\n",
        "      'quantidade' : quantidade,\n",
        "      'valor_unitario' : valor_unitario,\n",
        "      'valor_total' : round(quantidade * valor_unitario, 2),\n",
        "      'cidade' : random.choice(cidades)\n",
        "  }\n",
        "  dados_vendas.append(venda)\n",
        "\n",
        "# converto a lista de dicionários em um DataFrame do Pandas\n",
        "df_vendas = pd.DataFrame(dados_vendas)\n",
        "\n",
        "# exibo as 5 primeiras linhas para testar\n",
        "print('Visualizando as 5 primeiras linhas do DataFrame:')\n",
        "print(df_vendas.head())\n",
        "\n",
        "# salvo o DataFrame em um arquivo CSV para uso futuro\n",
        "df_vendas.to_csv('vendas_miss_lena.csv', index=False)\n",
        "\n",
        "print('\\nDados criados e salvos com sucesso no arquivo \"vendas_miss_lena.csv\"!')"
      ]
    },
    {
      "cell_type": "code",
      "source": [],
      "metadata": {
        "id": "84H4usaCYbLN"
      },
      "execution_count": null,
      "outputs": []
    }
  ]
}